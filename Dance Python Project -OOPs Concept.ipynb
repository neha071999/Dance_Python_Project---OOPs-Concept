{
 "cells": [
  {
   "cell_type": "markdown",
   "id": "2ac814d2",
   "metadata": {},
   "source": [
    "# Dance Python Project - OOPs Concept"
   ]
  },
  {
   "cell_type": "raw",
   "id": "d1232766",
   "metadata": {},
   "source": [
    "Base Class : Class Dance\n",
    "Derived Class : 1. Ballet Dance Form\n",
    "                2. Bharatnatyam Dance Form\n",
    "                3. Tap Dance Form\n",
    "                4. Belly Dance Form\n",
    "                5. Bollywood Dance Form\n",
    "                6. Salsa Dance Form"
   ]
  },
  {
   "cell_type": "code",
   "execution_count": 705,
   "id": "81f0fc50",
   "metadata": {},
   "outputs": [],
   "source": [
    "class Dance:\n",
    "    \n",
    "    def __init__(self, name, age, city, style, experience):\n",
    "        self.name = name\n",
    "        self.age = age\n",
    "        self.city = city\n",
    "        self.style = style\n",
    "        self.experience = experience\n",
    "    \n",
    "    def posture(self, standpoint):\n",
    "        return'{} standpoints are {}'.format(self.style, standpoint)\n",
    "    \n",
    "    def coordination(self, coordination):\n",
    "        return'{} coordination with their team is {}'.format(self.name, coordination)\n",
    "    \n",
    "    def flexibility(self, flexibility):\n",
    "        return'{} so flexible in {}'.format(self.name, flexibility)\n",
    "    \n",
    "    def choreography(self, choreography):\n",
    "        return'{} teaches {}'.format(self.name, choreography)\n",
    "    \n",
    "    "
   ]
  },
  {
   "cell_type": "code",
   "execution_count": 706,
   "id": "fd5a1315",
   "metadata": {},
   "outputs": [],
   "source": [
    "class Ballet(Dance):\n",
    "    \n",
    "    def __init__(self, name, age, city, style, experience, developement, clothes, staging):      \n",
    "        self.developement = developement\n",
    "        self.clothes = clothes\n",
    "        self.staging = staging\n",
    "        Dance.__init__(self, name, age, city, style, experience)\n",
    "        \n",
    "    def classical_ballet(self, stylee, movements):\n",
    "        self.stylee = stylee\n",
    "        return '{} include the movements of {}'.format(self.stylee, movements)\n",
    "    \n",
    "    def romantic_ballet(self, stylee, movements):\n",
    "        self.stylee = stylee\n",
    "        return '{} include the movements of {}'.format(self.stylee, movements)\n",
    "    \n",
    "    def contemporary_ballet(self, stylee, movements):\n",
    "        self.stylee = stylee\n",
    "        return '{} include the movements of {}'.format(self.stylee, movements)\n",
    "    \n",
    "    def cecchetti_method(self, stylee, movements):\n",
    "        self.stylee = stylee\n",
    "        return '{} include the movements of {}'.format(self.stylee, movements)\n",
    "    \n",
    "    def bournonville_method(self, stylee, movements):\n",
    "        self.stylee = stylee\n",
    "        return '{} include the movements of {}'.format(self.stylee, movements)"
   ]
  },
  {
   "cell_type": "code",
   "execution_count": 707,
   "id": "2d40b31a",
   "metadata": {},
   "outputs": [],
   "source": [
    "class Bharatnatyam(Dance):\n",
    "    \n",
    "    def __init__(self, name, age, city, style, experience, developement, clothes, staging):      \n",
    "        self.developement = developement\n",
    "        self.clothes = clothes\n",
    "        self.staging = staging\n",
    "        Dance.__init__(self, name, age, city, style, experience)\n",
    "        \n",
    "    def nritta(self, stylee, movements):\n",
    "        self.stylee = stylee\n",
    "        return '{} include the movements of {}'.format(self.stylee, movements)\n",
    "    \n",
    "    def natya(self, stylee, movements):\n",
    "        self.stylee = stylee\n",
    "        return '{} include the movements of {}'.format(self.stylee, movements)\n",
    "    \n",
    "    def nritya(self, stylee, movements):\n",
    "        self.stylee = stylee\n",
    "        return '{} include the movements of {}'.format(self.stylee, movements)\n",
    "    "
   ]
  },
  {
   "cell_type": "code",
   "execution_count": 708,
   "id": "e9a89a99",
   "metadata": {},
   "outputs": [],
   "source": [
    "class Tap_Dance(Dance):\n",
    "    \n",
    "    def __init__(self, name, age, city, style, experience, developement, clothes, staging):      \n",
    "        self.developement = developement\n",
    "        self.clothes = clothes\n",
    "        self.staging = staging\n",
    "        Dance.__init__(self, name, age, city, style, experience)\n",
    "        \n",
    "    def classical_tap(self, stylee, movements):\n",
    "        self.stylee = stylee\n",
    "        return '{} include the movements of {}'.format(self.stylee, movements)\n",
    "    \n",
    "    def rhythm_tap(self, stylee, movements):\n",
    "        self.stylee = stylee\n",
    "        return '{} include the movements of {}'.format(self.stylee, movements)\n",
    "    \n",
    "    def musical_tap(self, stylee, movements):\n",
    "        self.stylee = stylee\n",
    "        return '{} include the movements of {}'.format(self.stylee, movements)\n",
    "    \n",
    "    def funk_tap(self, stylee, movements):\n",
    "        self.stylee = stylee\n",
    "        return '{} include the movements of {}'.format(self.stylee, movements)\n"
   ]
  },
  {
   "cell_type": "code",
   "execution_count": 709,
   "id": "0f80dbcc",
   "metadata": {},
   "outputs": [],
   "source": [
    "class Belly_Dance(Dance):\n",
    "    \n",
    "    def __init__(self, name, age, city, style, experience, developement, clothes, staging):      \n",
    "        self.developement = developement\n",
    "        self.clothes = clothes\n",
    "        self.staging = staging\n",
    "        Dance.__init__(self, name, age, city, style, experience)\n",
    "        \n",
    "    def folkloric_style(self, stylee, movements):\n",
    "        self.stylee = stylee\n",
    "        return '{} include the movements of {}'.format(self.stylee, movements)\n",
    "    \n",
    "    def cabaret_style(self, stylee, movements):\n",
    "        self.stylee = stylee\n",
    "        return '{} include the movements of {}'.format(self.stylee, movements)\n",
    "    \n",
    "    def contemporary_style(self, stylee, movements):\n",
    "        self.stylee = stylee\n",
    "        return '{} include the movements of {}'.format(self.stylee, movements)\n",
    "    "
   ]
  },
  {
   "cell_type": "code",
   "execution_count": 710,
   "id": "802065fb",
   "metadata": {},
   "outputs": [],
   "source": [
    "class Bollywood_Dance(Dance):\n",
    "    \n",
    "    def __init__(self, name, age, city, style, experience, developement):      \n",
    "        self.developement = developement\n",
    "        Dance.__init__(self, name, age, city, style, experience)\n",
    "        \n",
    "    def ghoomar_style(self, dname, dage, dcity, ddevelopement, dclothes, dstaging):\n",
    "        self.dname = dname\n",
    "        self.dage = dage\n",
    "        self.dcity = dcity\n",
    "        self.ddevelopement = ddevelopement\n",
    "        self.dclothes = dclothes\n",
    "        self.dstaging = dstaging\n",
    "        return 'The best dancer is : {} \\nShe is : {} years old. \\nShe lives in : {} \\nThis dance form developed by : {} \\nOutfit of this dance form is : {} \\nShe perfomed on various shows like : {}'.format(self.dname, dage, dcity, ddevelopement, dclothes, dstaging )\n",
    "        \n",
    "    def bhangra_style(self, dname, dage, dcity, ddevelopement, dclothes, dstaging):\n",
    "        self.dname = dname\n",
    "        self.dage = dage\n",
    "        self.dcity = dcity\n",
    "        self.ddevelopement = ddevelopement\n",
    "        self.dclothes = dclothes\n",
    "        self.dstaging = dstaging\n",
    "        return 'The best dancer is : {} \\nHe is : {} years old. \\nHe lives in : {} \\nThis dance form developed by : {} \\nOutfit of this dance form is : {} \\nHe perfomed on various events like : {}'.format(self.dname, dage, dcity, ddevelopement, dclothes, dstaging )\n",
    "    \n",
    "    def garba_style(self, dname, dage, dcity, ddevelopement, dclothes, dstaging):\n",
    "        self.dname = dname\n",
    "        self.dage = dage\n",
    "        self.dcity = dcity\n",
    "        self.ddevelopement = ddevelopement\n",
    "        self.dclothes = dclothes\n",
    "        self.dstaging = dstaging\n",
    "        return 'The Garba Queen is : {} \\nShe is : {} years old. \\nShe lives in : {} \\nThis dance form developed by : {} \\nOutfit of this dance form is : {} \\nSome of her popular songs are : {}'.format(self.dname, dage, dcity, ddevelopement, dclothes, dstaging )\n",
    "    \n",
    "    def mujra_style(self, dname, dage, dcity, ddevelopement, dclothes, dstaging):\n",
    "        self.dname = dname\n",
    "        self.dage = dage\n",
    "        self.dcity = dcity\n",
    "        self.ddevelopement = ddevelopement\n",
    "        self.dclothes = dclothes\n",
    "        self.dstaging = dstaging\n",
    "        return 'The best dancer is : {} \\nShe is : {} years old. \\nShe lives in : {} \\nThis dance form developed by : {} \\nOutfit of this dance form is : {} \\nShe perfomed on various shows like : {}'.format(self.dname, dage, dcity, ddevelopement, dclothes, dstaging )\n",
    "    \n",
    "    def classical_style(self, dname, dage, dcity, ddevelopement, dclothes, dstaging):\n",
    "        self.dname = dname\n",
    "        self.dage = dage\n",
    "        self.dcity = dcity\n",
    "        self.ddevelopement = ddevelopement\n",
    "        self.dclothes = dclothes\n",
    "        self.dstaging = dstaging\n",
    "        return 'The best dancer is : {} \\nShe is : {} years old. \\nShe lives in : {} \\nThis dance form developed by : {} \\nOutfit of this dance form is : {} \\nShe perfomed on various shows like : {}'.format(self.dname, dage, dcity, ddevelopement, dclothes, dstaging )\n",
    "    \n",
    "    def freestyle_style(self, dname, dage, dcity, ddevelopement, dclothes, dstaging):\n",
    "        self.dname = dname\n",
    "        self.dage = dage\n",
    "        self.dcity = dcity\n",
    "        self.ddevelopement = ddevelopement\n",
    "        self.dclothes = dclothes\n",
    "        self.dstaging = dstaging\n",
    "        return 'The best dancer is : {} \\nHe is : {} years old. \\nHe lives in : {} \\nThis dance form developed by : {} \\nOutfit of this dance form is : {} \\nHe perfomed on various shows like : {}'.format(self.dname, dage, dcity, ddevelopement, dclothes, dstaging )\n",
    "    \n",
    "    def hiphop_style(self, dname, dage, dcity, ddevelopement, dclothes, dstaging):\n",
    "        self.dname = dname\n",
    "        self.dage = dage\n",
    "        self.dcity = dcity\n",
    "        self.ddevelopement = ddevelopement\n",
    "        self.dclothes = dclothes\n",
    "        self.dstaging = dstaging\n",
    "        return 'The best dancer is : {} \\nHe is : {} years old. \\nHe lives in : {} \\nThis dance form developed by : {} \\nOutfit of this dance form is : {} \\nHe perfomed on various shows like : {}'.format(self.dname, dage, dcity, ddevelopement, dclothes, dstaging )\n",
    "    \n",
    "    def bboying_style(self, dname, dage, dcity, ddevelopement, dclothes, dstaging):\n",
    "        self.dname = dname\n",
    "        self.dage = dage\n",
    "        self.dcity = dcity\n",
    "        self.ddevelopement = ddevelopement\n",
    "        self.dclothes = dclothes\n",
    "        self.dstaging = dstaging\n",
    "        return 'The best dancer is : {} \\nHe is : {} years old. \\nHe lives in : {} \\nThis dance form developed by : {} \\nOutfit of this dance form is : {} \\nHe judged a show which is : {}'.format(self.dname, dage, dcity, ddevelopement, dclothes, dstaging )"
   ]
  },
  {
   "cell_type": "code",
   "execution_count": 711,
   "id": "90334dd5",
   "metadata": {},
   "outputs": [],
   "source": [
    "class Salsa(Dance):\n",
    "    \n",
    "    def __init__(self, name, age, city, style, experience, developement, clothes, staging):      \n",
    "        self.developement = developement\n",
    "        self.clothes = clothes\n",
    "        self.staging = staging\n",
    "        Dance.__init__(self, name, age, city, style, experience)\n",
    "        \n",
    "    def colombian_style(self, stylee, movements):\n",
    "        self.stylee = stylee\n",
    "        return '{} include the movements of {}'.format(self.stylee, movements)\n",
    "    \n",
    "    def cuban_style(self, stylee, movements):\n",
    "        self.stylee = stylee\n",
    "        return '{} include the movements of {}'.format(self.stylee, movements)\n",
    "    \n",
    "    def LA_style(self, stylee, movements):\n",
    "        self.stylee = stylee\n",
    "        return '{} include the movements of {}'.format(self.stylee, movements)\n",
    "    \n",
    "    def newyork_style(self, stylee, movements):\n",
    "        self.stylee = stylee\n",
    "        return '{} include the movements of {}'.format(self.stylee, movements)\n",
    "    "
   ]
  },
  {
   "cell_type": "markdown",
   "id": "d0987659",
   "metadata": {},
   "source": [
    "###### creating and calling the object of Ballet Dance Class"
   ]
  },
  {
   "cell_type": "code",
   "execution_count": 712,
   "id": "d6e51ea9",
   "metadata": {},
   "outputs": [],
   "source": [
    "obj1 = Ballet(\"Saburo Teshigawara\", 68, \"Tokyo\", \"Ballet style\", 53, \"Italy\", \"The tutu\", \"Mirror and Music at the Kennedy Center\")"
   ]
  },
  {
   "cell_type": "code",
   "execution_count": 713,
   "id": "32c751fc",
   "metadata": {},
   "outputs": [
    {
     "name": "stdout",
     "output_type": "stream",
     "text": [
      "Saburo Teshigawara is 68 years old and lives in Tokyo. He is best in Ballet style and having an experience of 53 years. This Dance Form is developed by Italy. It is necessary to wear The tutu outfit while doing ballet dance and Saburo Teshigawara also performed several shows like Mirror and Music at the Kennedy Center.\n",
      "\n",
      "Classical Ballet include the movements of Arabesque, Balance, Echappe\n",
      "Romantic Ballet include the movements of Battement, Cabriole, Rond de Jambe\n",
      "Contemporary Ballet include the movements of Assemble, Attitude, Soubresaut\n",
      "Cecchetti Ballet include the movements of Brise, Changement, Sous-sus\n",
      "Bournonville Ballet include the movements of Chasse, Ciseaux, Tendu \n",
      "\n",
      "Ballet style standpoints are Active\n",
      "Saburo Teshigawara coordination with their team is Accurate\n",
      "Saburo Teshigawara so flexible in Stretching\n",
      "Saburo Teshigawara teaches all moves of ballet dance\n"
     ]
    }
   ],
   "source": [
    "print(f'{obj1.name} is {obj1.age} years old and lives in {obj1.city}. He is best in {obj1.style} and having an experience of {obj1.experience} years. This Dance Form is developed by {obj1.developement}. It is necessary to wear {obj1.clothes} outfit while doing ballet dance and {obj1.name} also performed several shows like {obj1.staging}.\\n')\n",
    "\n",
    "print(obj1.classical_ballet('Classical Ballet','Arabesque, Balance, Echappe'))\n",
    "print(obj1.romantic_ballet('Romantic Ballet','Battement, Cabriole, Rond de Jambe'))\n",
    "print(obj1.contemporary_ballet('Contemporary Ballet','Assemble, Attitude, Soubresaut'))\n",
    "print(obj1.cecchetti_method('Cecchetti Ballet','Brise, Changement, Sous-sus'))\n",
    "print(obj1.bournonville_method('Bournonville Ballet','Chasse, Ciseaux, Tendu \\n'))\n",
    "\n",
    "print(obj1.posture('Active'))\n",
    "print(obj1.coordination('Accurate'))\n",
    "print(obj1.flexibility('Stretching'))\n",
    "print(obj1.choreography('all moves of ballet dance'))"
   ]
  },
  {
   "cell_type": "markdown",
   "id": "30881fe6",
   "metadata": {},
   "source": [
    "###### creating and calling the object of Bharatnatyam Dance Class"
   ]
  },
  {
   "cell_type": "code",
   "execution_count": 714,
   "id": "3e465e0e",
   "metadata": {},
   "outputs": [],
   "source": [
    "obj2 = Bharatnatyam(\"Savitha Sastry\", 52, \"Bangalore\", \"Bharatnatyam\", 23, \"Tamil Nadu, South India\", \"Pyjama style & skirt style saree\", \"Youth Asia Pacific Championship Award show\")"
   ]
  },
  {
   "cell_type": "code",
   "execution_count": 715,
   "id": "49917b1b",
   "metadata": {},
   "outputs": [
    {
     "name": "stdout",
     "output_type": "stream",
     "text": [
      "Savitha Sastry is 52 years old and lives in Bangalore. She is best in Bharatnatyam and having an experience of 23 years. This Dance Form is developed by Tamil Nadu, South India. It is necessary to wear Pyjama style & skirt style saree outfit while doing Bharatnatyam and Savitha Sastry also judged several shows like Youth Asia Pacific Championship Award show.\n",
      "\n",
      "Nritta include the movements of mood, Bhava and Rasa\n",
      "Natya include the movements of Hasta, eyes, eye brows, lips\n",
      "Nritya include the movements of Abhinaya, Angika, Vachika & Sattvika \n",
      "\n",
      "Bharatnatyam standpoints are Araimandi & Muzhumandi\n",
      "Savitha Sastry coordination with their team is Stable\n",
      "Savitha Sastry so flexible in Arms & Core muscels\n",
      "Savitha Sastry teaches moves of Nritta & Nritya\n"
     ]
    }
   ],
   "source": [
    "print(f'{obj2.name} is {obj2.age} years old and lives in {obj2.city}. She is best in {obj2.style} and having an experience of {obj2.experience} years. This Dance Form is developed by {obj2.developement}. It is necessary to wear {obj2.clothes} outfit while doing Bharatnatyam and {obj2.name} also judged several shows like {obj2.staging}.\\n')\n",
    "\n",
    "print(obj2.nritta('Nritta','mood, Bhava and Rasa'))\n",
    "print(obj2.natya('Natya','Hasta, eyes, eye brows, lips'))\n",
    "print(obj2.nritya('Nritya','Abhinaya, Angika, Vachika & Sattvika \\n'))\n",
    "\n",
    "print(obj2.posture('Araimandi & Muzhumandi'))\n",
    "print(obj2.coordination('Stable'))\n",
    "print(obj2.flexibility('Arms & Core muscels'))\n",
    "print(obj2.choreography('moves of Nritta & Nritya'))"
   ]
  },
  {
   "cell_type": "markdown",
   "id": "e1024ef3",
   "metadata": {},
   "source": [
    "###### creating and calling the object of Tap Dance Class"
   ]
  },
  {
   "cell_type": "code",
   "execution_count": 716,
   "id": "9d623468",
   "metadata": {},
   "outputs": [],
   "source": [
    "obj3 = Tap_Dance(\"Michelle Dorrance\", 42, \"Brooklyn, New York\", \"Tap Dance\", 19, \"United States\", \"fringed skirts, hats, sequined armbands & Mary Jane Shoe\", \"American Tap Dance Foundation\")"
   ]
  },
  {
   "cell_type": "code",
   "execution_count": 717,
   "id": "afc30711",
   "metadata": {},
   "outputs": [
    {
     "name": "stdout",
     "output_type": "stream",
     "text": [
      "Michelle Dorrance is 42 years old and lives in Brooklyn, New York. She is best in Tap Dance and having an experience of 19 years. This Dance Form is developed by United States. It is necessary to wear fringed skirts, hats, sequined armbands & Mary Jane Shoe outfit while doing Tap Dance and Michelle Dorrance also judged several shows like American Tap Dance Foundation.\n",
      "\n",
      "Classical Tap include the movements of heel tap, stamp, brush\n",
      "Rhythm Tap include the movements of ball heel, flap, riff\n",
      "Musical Tap include the movements of ripple, slurp, three beat shuffle\n",
      "Funk Tap include the movements of Cramp roll, paradiddle, Irish \n",
      "\n",
      "Tap Dance standpoints are Relaxed & muscels activated\n",
      "Michelle Dorrance coordination with their team is in Efficient manner\n",
      "Michelle Dorrance so flexible in Tone leg muscels\n",
      "Michelle Dorrance teaches majorily moves of paradiddle and slurp\n"
     ]
    }
   ],
   "source": [
    "print(f'{obj3.name} is {obj3.age} years old and lives in {obj3.city}. She is best in {obj3.style} and having an experience of {obj3.experience} years. This Dance Form is developed by {obj3.developement}. It is necessary to wear {obj3.clothes} outfit while doing Tap Dance and {obj3.name} also judged several shows like {obj3.staging}.\\n')\n",
    "\n",
    "print(obj3.classical_tap('Classical Tap','heel tap, stamp, brush'))\n",
    "print(obj3.rhythm_tap('Rhythm Tap','ball heel, flap, riff'))\n",
    "print(obj3.musical_tap('Musical Tap','ripple, slurp, three beat shuffle'))\n",
    "print(obj3.funk_tap('Funk Tap','Cramp roll, paradiddle, Irish \\n'))\n",
    "\n",
    "print(obj3.posture('Relaxed & muscels activated'))\n",
    "print(obj3.coordination('in Efficient manner'))\n",
    "print(obj3.flexibility('Tone leg muscels'))\n",
    "print(obj3.choreography('majorily moves of paradiddle and slurp'))"
   ]
  },
  {
   "cell_type": "markdown",
   "id": "17e06376",
   "metadata": {},
   "source": [
    "###### creating and calling the object of Belly Dance Class"
   ]
  },
  {
   "cell_type": "code",
   "execution_count": 718,
   "id": "9de0ee95",
   "metadata": {},
   "outputs": [],
   "source": [
    "obj4 = Belly_Dance(\"Alla Kushnir\", 37, \"Ukraine\", \"Belly Dance\", 25, \"Egypt\", \"bedlah\", \"the winner of Egyptian TV show\")"
   ]
  },
  {
   "cell_type": "code",
   "execution_count": 731,
   "id": "eff06e59",
   "metadata": {},
   "outputs": [
    {
     "name": "stdout",
     "output_type": "stream",
     "text": [
      "Alla Kushnir is 37 years old and lives in Ukraine. She is best in Belly Dance and having an experience of 25 years. This Dance Form is developed by Egypt. It is necessary to wear bedlah outfit while doing Belly Dance and Alla Kushnir also she won the show the winner of Egyptian TV show.\n",
      "\n",
      "Folkloric Style include the movements of Barrel turn, Belly flutters, Belly pop, Hip shimmies\n",
      "Cabaret Style include the movements of Chest circle, Chest drop, Chest lift, Choo choo shimmies\n",
      "Contemporary Style include the movements of Layering, Maya, Corkscrew turn, Hip drop \n",
      "\n",
      "Belly Dance standpoints are shoulder shimmy &  hip shimmy\n",
      "Alla Kushnir coordination with their team is Challengable\n",
      "Alla Kushnir so flexible in hip work and rib cage isolations\n",
      "Alla Kushnir teaches mostly Corkscrew turn, Hip drop & Chest drop\n"
     ]
    }
   ],
   "source": [
    "print(f'{obj4.name} is {obj4.age} years old and lives in {obj4.city}. She is best in {obj4.style} and having an experience of {obj4.experience} years. This Dance Form is developed by {obj4.developement}. It is necessary to wear {obj4.clothes} outfit while doing Belly Dance and {obj4.name} also she won the show {obj4.staging}.\\n')\n",
    "\n",
    "print(obj4.folkloric_style('Folkloric Style','Barrel turn, Belly flutters, Belly pop, Hip shimmies'))\n",
    "print(obj4.cabaret_style('Cabaret Style','Chest circle, Chest drop, Chest lift, Choo choo shimmies'))\n",
    "print(obj4.contemporary_style('Contemporary Style','Layering, Maya, Corkscrew turn, Hip drop \\n'))\n",
    "\n",
    "print(obj4.posture('shoulder shimmy &  hip shimmy'))\n",
    "print(obj4.coordination('Challengable'))\n",
    "print(obj4.flexibility('hip work and rib cage isolations'))\n",
    "print(obj4.choreography('mostly Corkscrew turn, Hip drop & Chest drop'))"
   ]
  },
  {
   "cell_type": "markdown",
   "id": "9e2e9495",
   "metadata": {},
   "source": [
    "###### creating and calling the object of Bollywood Dance Class"
   ]
  },
  {
   "cell_type": "code",
   "execution_count": 720,
   "id": "20ac22b2",
   "metadata": {},
   "outputs": [
    {
     "name": "stdout",
     "output_type": "stream",
     "text": [
      "The all time best dancer in Bollywood style is Prabhu Deva and he is 49 years old and lives in Mumbai. He is having an experience of 44 years. This Dance Form is developed by India.\n",
      "\n"
     ]
    }
   ],
   "source": [
    "obj5 = Bollywood_Dance(\"Prabhu Deva\", 49, \"Mumbai\", \"Bollywood Dance Form\", 44, \"India\")\n",
    "print(f'The all time best dancer in Bollywood style is {obj5.name} and he is {obj5.age} years old and lives in {obj5.city}. He is having an experience of {obj5.experience} years. This Dance Form is developed by {obj5.developement}.\\n')"
   ]
  },
  {
   "cell_type": "markdown",
   "id": "c4b0c954",
   "metadata": {},
   "source": [
    "###### Bollywood Dance form consist different - different dance styles from different - different states and those dance styles consist different - different dancers. "
   ]
  },
  {
   "cell_type": "code",
   "execution_count": 721,
   "id": "902309aa",
   "metadata": {},
   "outputs": [
    {
     "name": "stdout",
     "output_type": "stream",
     "text": [
      "The best dancer is : Deepika Padukone \n",
      "She is : 36 years old. \n",
      "She lives in : Mumbai \n",
      "This dance form developed by : Rajasthan \n",
      "Outfit of this dance form is : ghagra-choli  \n",
      "She perfomed on various shows like : IIFA Awards & ZEEcine Awards\n"
     ]
    }
   ],
   "source": [
    "print(obj5.ghoomar_style('Deepika Padukone',36,'Mumbai','Rajasthan','ghagra-choli ','IIFA Awards & ZEEcine Awards'))"
   ]
  },
  {
   "cell_type": "code",
   "execution_count": 722,
   "id": "3dcda6e8",
   "metadata": {},
   "outputs": [
    {
     "name": "stdout",
     "output_type": "stream",
     "text": [
      "The best dancer is : Hardy Singh  \n",
      "He is : 29 years old. \n",
      "He lives in : Chandigarh \n",
      "This dance form developed by : Punjab \n",
      "Outfit of this dance form is : The tamba or Salwar Kameez  \n",
      "He perfomed on various events like :  Dubai Festival City Diwali Celebrations & Asian Football Cup\n"
     ]
    }
   ],
   "source": [
    "print(obj5.bhangra_style('Hardy Singh ',29,'Chandigarh','Punjab','The tamba or Salwar Kameez ',' Dubai Festival City Diwali Celebrations & Asian Football Cup'))"
   ]
  },
  {
   "cell_type": "code",
   "execution_count": 723,
   "id": "3ffb1bd9",
   "metadata": {},
   "outputs": [
    {
     "name": "stdout",
     "output_type": "stream",
     "text": [
      "The Garba Queen is : Falguni Pathak \n",
      "She is : 53 years old. \n",
      "She lives in : Mumbai \n",
      "This dance form developed by : Gujarat \n",
      "Outfit of this dance form is : Chaniya Choli \n",
      "Some of her popular songs are : Chudi Jo Khanki Haathon Mein, Maine Payal Hai Chhankai and many more.\n"
     ]
    }
   ],
   "source": [
    "print(obj5.garba_style('Falguni Pathak',53,'Mumbai','Gujarat','Chaniya Choli','Chudi Jo Khanki Haathon Mein, Maine Payal Hai Chhankai and many more.'))"
   ]
  },
  {
   "cell_type": "code",
   "execution_count": 724,
   "id": "cdedca7e",
   "metadata": {},
   "outputs": [
    {
     "name": "stdout",
     "output_type": "stream",
     "text": [
      "The best dancer is : Rekha \n",
      "She is : 67 years old. \n",
      "She lives in : Mumbai \n",
      "This dance form developed by : Mughal rule in India \n",
      "Outfit of this dance form is : Anarkali Dress \n",
      "She perfomed on various shows like : IIFA Awards & Filmfare Awards\n"
     ]
    }
   ],
   "source": [
    "print(obj5.mujra_style('Rekha',67,'Mumbai','Mughal rule in India','Anarkali Dress','IIFA Awards & Filmfare Awards'))"
   ]
  },
  {
   "cell_type": "code",
   "execution_count": 725,
   "id": "48621c13",
   "metadata": {},
   "outputs": [
    {
     "name": "stdout",
     "output_type": "stream",
     "text": [
      "The best dancer is : Madhuri Dixit \n",
      "She is : 55 years old. \n",
      "She lives in : Mumbai \n",
      "This dance form developed by : Tamil Nadu, Uttar Pradesh, Kerala, Andhra Pradesh, Assam, Manipur, Odisha \n",
      "Outfit of this dance form is : Lehenga or Ghagra & Saree in special style \n",
      "She perfomed on various shows like : Pepsi W2K Millennium Concert &  inaugural ceremony of Mens Hockey World Cup\n"
     ]
    }
   ],
   "source": [
    "print(obj5.classical_style('Madhuri Dixit',55,'Mumbai','Tamil Nadu, Uttar Pradesh, Kerala, Andhra Pradesh, Assam, Manipur, Odisha','Lehenga or Ghagra & Saree in special style','Pepsi W2K Millennium Concert &  inaugural ceremony of Mens Hockey World Cup'))"
   ]
  },
  {
   "cell_type": "code",
   "execution_count": 726,
   "id": "4837a4d4",
   "metadata": {},
   "outputs": [
    {
     "name": "stdout",
     "output_type": "stream",
     "text": [
      "The best dancer is : Shahid Kapoor \n",
      "He is : 41 years old. \n",
      "He lives in : Mumbai \n",
      "This dance form developed by : Maharastra \n",
      "Outfit of this dance form is : Funky Freestyle Costumes \n",
      "He perfomed on various shows like : International Indian Film Academy Awards\n"
     ]
    }
   ],
   "source": [
    "print(obj5.freestyle_style('Shahid Kapoor',41,'Mumbai','Maharastra','Funky Freestyle Costumes','International Indian Film Academy Awards'))"
   ]
  },
  {
   "cell_type": "code",
   "execution_count": 727,
   "id": "bb6de2a7",
   "metadata": {},
   "outputs": [
    {
     "name": "stdout",
     "output_type": "stream",
     "text": [
      "The best dancer is : Hrithik Roshan \n",
      "He is : 48 years old. \n",
      "He lives in : Mumbai \n",
      "This dance form developed by : New York \n",
      "Outfit of this dance form is : Jersey or Sports Look or The Jogger Pant & Crop Tops \n",
      "He perfomed on various shows like : IIFA Awards & Filmfare Awards & ZEEcine Awards\n"
     ]
    }
   ],
   "source": [
    "print(obj5.hiphop_style('Hrithik Roshan',48,'Mumbai','New York','Jersey or Sports Look or The Jogger Pant & Crop Tops','IIFA Awards & Filmfare Awards & ZEEcine Awards'))"
   ]
  },
  {
   "cell_type": "code",
   "execution_count": 728,
   "id": "f813a022",
   "metadata": {},
   "outputs": [
    {
     "name": "stdout",
     "output_type": "stream",
     "text": [
      "The best dancer is : Suresh Mukund \n",
      "He is : 34 years old. \n",
      "He lives in : Vasai \n",
      "This dance form developed by : United States \n",
      "Outfit of this dance form is : baggy pants or sweat suits \n",
      "He judged a show which is : Dance Plus\n"
     ]
    }
   ],
   "source": [
    "print(obj5.bboying_style('Suresh Mukund',34,'Vasai','United States','baggy pants or sweat suits','Dance Plus'))"
   ]
  },
  {
   "cell_type": "markdown",
   "id": "ad3c8874",
   "metadata": {},
   "source": [
    "###### creating and calling the object of Salsa Dance Class"
   ]
  },
  {
   "cell_type": "code",
   "execution_count": 729,
   "id": "ba799745",
   "metadata": {},
   "outputs": [],
   "source": [
    "obj6 = Salsa(\"Ricardo Vega\", 39, \"Nicaragua\", \"Salsa style\", 20, \"Cuba\", \"Trendy jeans & stylish T-shirts\", \"FIFA World Cup qualification\")\n",
    "obj7 = Salsa(\"Karen Forcano\", 28, \"Argentina\", \"Salsa style\", 10, \"Cuba\", \"Swinging skirts & tight-fitting top\", \" World Latin Dance Cup\")"
   ]
  },
  {
   "cell_type": "code",
   "execution_count": 730,
   "id": "f935b6a0",
   "metadata": {},
   "outputs": [
    {
     "name": "stdout",
     "output_type": "stream",
     "text": [
      "Ricardo Vega is 39 years old and lives in Nicaragua. He is best in Salsa style and having an experience of 20 years. This Dance Form is developed by Cuba. It is necessary to wear Trendy jeans & stylish T-shirts outfit while doing Salsa Dance and Ricardo Vega also He himself represented in FIFA World Cup qualification.\n",
      "\n",
      "Karen Forcano is 28 years old and lives in Argentina. She is best in Salsa style and having an experience of 10 years. This Dance Form is developed by Cuba. It is necessary to wear Swinging skirts & tight-fitting top outfit while doing Salsa Dance and Karen Forcano also She won  World Latin Dance Cup.\n",
      "\n",
      "Colombian Style include the movements of Cadence\n",
      "Cuban Style include the movements of Claves\n",
      "LA Style include the movements of Razz M Tazz\n",
      "Newyork Style include the movements of Eddie Torres  \n",
      "\n",
      "Salsa style standpoints are Acrobatics & Lifts \n",
      "Karen Forcano coordination with their team is must be rhythmic Coordination\n",
      "Ricardo Vega so flexible in Lower Body Muscels\n",
      "Karen Forcano teaches majorily all moves of Salsa \n"
     ]
    }
   ],
   "source": [
    "print(f'{obj6.name} is {obj6.age} years old and lives in {obj6.city}. He is best in {obj6.style} and having an experience of {obj6.experience} years. This Dance Form is developed by {obj6.developement}. It is necessary to wear {obj6.clothes} outfit while doing Salsa Dance and {obj6.name} also He himself represented in {obj6.staging}.\\n')\n",
    "print(f'{obj7.name} is {obj7.age} years old and lives in {obj7.city}. She is best in {obj7.style} and having an experience of {obj7.experience} years. This Dance Form is developed by {obj7.developement}. It is necessary to wear {obj7.clothes} outfit while doing Salsa Dance and {obj7.name} also She won {obj7.staging}.\\n')\n",
    "\n",
    "print(obj6.colombian_style('Colombian Style','Cadence'))\n",
    "print(obj7.cuban_style('Cuban Style','Claves'))\n",
    "print(obj6.LA_style('LA Style','Razz M Tazz'))\n",
    "print(obj7.newyork_style('Newyork Style','Eddie Torres  \\n'))\n",
    "\n",
    "print(obj6.posture('Acrobatics & Lifts '))\n",
    "print(obj7.coordination('must be rhythmic Coordination'))\n",
    "print(obj6.flexibility('Lower Body Muscels'))\n",
    "print(obj7.choreography('majorily all moves of Salsa '))"
   ]
  },
  {
   "cell_type": "code",
   "execution_count": null,
   "id": "1530fce8",
   "metadata": {},
   "outputs": [],
   "source": []
  },
  {
   "cell_type": "code",
   "execution_count": null,
   "id": "88632f21",
   "metadata": {},
   "outputs": [],
   "source": []
  },
  {
   "cell_type": "code",
   "execution_count": null,
   "id": "be5c9e52",
   "metadata": {},
   "outputs": [],
   "source": []
  }
 ],
 "metadata": {
  "kernelspec": {
   "display_name": "Python 3 (ipykernel)",
   "language": "python",
   "name": "python3"
  },
  "language_info": {
   "codemirror_mode": {
    "name": "ipython",
    "version": 3
   },
   "file_extension": ".py",
   "mimetype": "text/x-python",
   "name": "python",
   "nbconvert_exporter": "python",
   "pygments_lexer": "ipython3",
   "version": "3.9.12"
  }
 },
 "nbformat": 4,
 "nbformat_minor": 5
}
